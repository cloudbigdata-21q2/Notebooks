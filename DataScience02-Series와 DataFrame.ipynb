{
 "cells": [
  {
   "cell_type": "code",
   "execution_count": 2,
   "id": "85ff3837",
   "metadata": {},
   "outputs": [
    {
     "name": "stdout",
     "output_type": "stream",
     "text": [
      "0    홍길동\n",
      "1     28\n",
      "dtype: object object\n"
     ]
    }
   ],
   "source": [
    "# Series\n",
    "# 단일 형식의 1차원 데이터\n",
    "import pandas as pd\n",
    "s = pd.Series([\"홍길동\", 28]) # object, int64 -> 데이터 타입이 다를 경우 하나로 통일\n",
    "# object가 섞여 있으면 object로 변환\n",
    "print(s, s.dtype)"
   ]
  },
  {
   "cell_type": "code",
   "execution_count": 3,
   "id": "b3664ee6",
   "metadata": {},
   "outputs": [
    {
     "name": "stdout",
     "output_type": "stream",
     "text": [
      "Name    홍길동\n",
      "Age      28\n",
      "dtype: object\n"
     ]
    }
   ],
   "source": [
    "s2 = pd.Series(['홍길동', 28], index=['Name', 'Age']) # 명시적으로 인덱스를 부여할 때\n",
    "print(s2)"
   ]
  },
  {
   "cell_type": "code",
   "execution_count": 6,
   "id": "4a6b6ced",
   "metadata": {},
   "outputs": [
    {
     "name": "stdout",
     "output_type": "stream",
     "text": [
      "0    홍길동\n",
      "1     28\n",
      "dtype: object\n",
      "s의 인덱스: RangeIndex(start=0, stop=2, step=1)\n",
      "이름    홍길동\n",
      "나이     28\n",
      "dtype: object\n"
     ]
    }
   ],
   "source": [
    "# 이미 만들어진 Series에 Index 부여하고자 할 때 .index의 리스트를 변경\n",
    "print(s)\n",
    "print(\"s의 인덱스:\", s.index)\n",
    "s.index = ['이름', '나이']\n",
    "print(s)"
   ]
  },
  {
   "cell_type": "code",
   "execution_count": 10,
   "id": "a789130a",
   "metadata": {},
   "outputs": [
    {
     "name": "stdout",
     "output_type": "stream",
     "text": [
      "홍길동 28\n",
      "홍길동 28\n",
      "홍길동 28\n"
     ]
    }
   ],
   "source": [
    "# 인덱스에 접근하기\n",
    "print(s['이름'], s['나이']) # 인덱스 접근\n",
    "print(s[0], s[1]) # 순서 정보를 이용한 접근\n",
    "print(s[-2], s[-1]) # 역인덱싱 가능"
   ]
  },
  {
   "cell_type": "code",
   "execution_count": 11,
   "id": "a0774ce8",
   "metadata": {},
   "outputs": [
    {
     "data": {
      "text/plain": [
       "count      5.000000\n",
       "mean      82.000000\n",
       "std       13.509256\n",
       "min       65.000000\n",
       "25%       75.000000\n",
       "50%       80.000000\n",
       "75%       90.000000\n",
       "max      100.000000\n",
       "dtype: float64"
      ]
     },
     "execution_count": 11,
     "metadata": {},
     "output_type": "execute_result"
    }
   ],
   "source": [
    "scores = [80, 75, 90, 100, 65] # 데이터 리스트 \n",
    "scores_s = pd.Series(scores) # 시리즈를 생성(인자로 데이터의 리스트 전달)\n",
    "# 기초 통계량의 확인\n",
    "scores_s.describe()"
   ]
  },
  {
   "cell_type": "code",
   "execution_count": 15,
   "id": "0d92db0b",
   "metadata": {},
   "outputs": [
    {
     "name": "stdout",
     "output_type": "stream",
     "text": [
      "최솟값, 최댓값: 65 100\n",
      "산술평균, 중앙값: 82.0 80.0\n",
      "표준편차: 13.509256086106296\n",
      "포함 여부: 0    False\n",
      "1    False\n",
      "2    False\n",
      "3     True\n",
      "4    False\n",
      "dtype: bool\n"
     ]
    }
   ],
   "source": [
    "# 기초 통계량 함수\n",
    "print(\"최솟값, 최댓값:\", scores_s.min(), scores_s.max())\n",
    "print(\"산술평균, 중앙값:\", scores_s.mean(), scores_s.median())\n",
    "print(\"표준편차:\", scores_s.std())\n",
    "print(\"포함 여부:\", scores_s.isin([100]))"
   ]
  },
  {
   "cell_type": "code",
   "execution_count": 20,
   "id": "ea1830aa",
   "metadata": {},
   "outputs": [
    {
     "name": "stdout",
     "output_type": "stream",
     "text": [
      "s3:\n",
      " 0     1\n",
      "1     5\n",
      "2     8\n",
      "3     4\n",
      "4     6\n",
      "5     1\n",
      "6    10\n",
      "dtype: int64\n",
      "s3 + s4\n",
      " 0     2\n",
      "1     7\n",
      "2    11\n",
      "3     8\n",
      "4    11\n",
      "5     7\n",
      "6    17\n",
      "dtype: int64\n"
     ]
    }
   ],
   "source": [
    "# 시리즈의 연산 \n",
    "s3 = pd.Series([1, 5, 8, 4, 6, 1, 10])\n",
    "print(\"s3:\\n\", s3)\n",
    "# 시리즈와 스칼라의 연산\n",
    "# print(\"s3 * 2\\n\", s3 * 2)\n",
    "# 시리즈와 시리즈의 연산\n",
    "s4 = pd.Series([1, 2, 3, 4, 5, 6, 7])\n",
    "print(\"s3 + s4\\n\", s3 + s4)"
   ]
  },
  {
   "cell_type": "code",
   "execution_count": 23,
   "id": "8b1bbdfe",
   "metadata": {},
   "outputs": [
    {
     "name": "stdout",
     "output_type": "stream",
     "text": [
      "s4\n",
      " 0    1\n",
      "1    2\n",
      "2    3\n",
      "3    4\n",
      "4    5\n",
      "5    6\n",
      "6    7\n",
      "dtype: int64\n",
      "s5\n",
      " 0     1\n",
      "1     4\n",
      "2     9\n",
      "3    16\n",
      "4    25\n",
      "5    36\n",
      "6    49\n",
      "dtype: int64\n"
     ]
    }
   ],
   "source": [
    "# 시리즈의 각 요소(항목)에 같은 함수를 일괄 적용: apply\n",
    "print(\"s4\\n\", s4)\n",
    "s5 = s4.apply(lambda x: x ** 2)\n",
    "print(\"s5\\n\", s5)"
   ]
  },
  {
   "cell_type": "code",
   "execution_count": 26,
   "id": "7ad7d544",
   "metadata": {},
   "outputs": [
    {
     "data": {
      "text/html": [
       "<div>\n",
       "<style scoped>\n",
       "    .dataframe tbody tr th:only-of-type {\n",
       "        vertical-align: middle;\n",
       "    }\n",
       "\n",
       "    .dataframe tbody tr th {\n",
       "        vertical-align: top;\n",
       "    }\n",
       "\n",
       "    .dataframe thead th {\n",
       "        text-align: right;\n",
       "    }\n",
       "</style>\n",
       "<table border=\"1\" class=\"dataframe\">\n",
       "  <thead>\n",
       "    <tr style=\"text-align: right;\">\n",
       "      <th></th>\n",
       "      <th>KOR</th>\n",
       "      <th>ENG</th>\n",
       "      <th>MATH</th>\n",
       "    </tr>\n",
       "  </thead>\n",
       "  <tbody>\n",
       "    <tr>\n",
       "      <th>A</th>\n",
       "      <td>80</td>\n",
       "      <td>90</td>\n",
       "      <td>80</td>\n",
       "    </tr>\n",
       "    <tr>\n",
       "      <th>B</th>\n",
       "      <td>90</td>\n",
       "      <td>80</td>\n",
       "      <td>90</td>\n",
       "    </tr>\n",
       "    <tr>\n",
       "      <th>C</th>\n",
       "      <td>75</td>\n",
       "      <td>70</td>\n",
       "      <td>85</td>\n",
       "    </tr>\n",
       "  </tbody>\n",
       "</table>\n",
       "</div>"
      ],
      "text/plain": [
       "   KOR  ENG  MATH\n",
       "A   80   90    80\n",
       "B   90   80    90\n",
       "C   75   70    85"
      ]
     },
     "execution_count": 26,
     "metadata": {},
     "output_type": "execute_result"
    }
   ],
   "source": [
    "# 데이터 프레임\n",
    "# 여러 개의 Series(컬럼)가 연결된 2차원 테이블 형태의 데이터\n",
    "# 생성 : dict로 데이터를 입력\n",
    "scores_df = pd.DataFrame({\n",
    "    \"KOR\": [80, 90, 75],\n",
    "    \"ENG\": [90, 80, 70],\n",
    "    \"MATH\": [80, 90, 85]\n",
    "}, index = ['A', 'B', 'C'])\n",
    "scores_df"
   ]
  },
  {
   "cell_type": "code",
   "execution_count": 28,
   "id": "5f541888",
   "metadata": {},
   "outputs": [
    {
     "data": {
      "text/html": [
       "<div>\n",
       "<style scoped>\n",
       "    .dataframe tbody tr th:only-of-type {\n",
       "        vertical-align: middle;\n",
       "    }\n",
       "\n",
       "    .dataframe tbody tr th {\n",
       "        vertical-align: top;\n",
       "    }\n",
       "\n",
       "    .dataframe thead th {\n",
       "        text-align: right;\n",
       "    }\n",
       "</style>\n",
       "<table border=\"1\" class=\"dataframe\">\n",
       "  <thead>\n",
       "    <tr style=\"text-align: right;\">\n",
       "      <th></th>\n",
       "      <th>KOR</th>\n",
       "      <th>ENG</th>\n",
       "      <th>MATH</th>\n",
       "    </tr>\n",
       "  </thead>\n",
       "  <tbody>\n",
       "    <tr>\n",
       "      <th>홍길동</th>\n",
       "      <td>80</td>\n",
       "      <td>90</td>\n",
       "      <td>80</td>\n",
       "    </tr>\n",
       "    <tr>\n",
       "      <th>임꺽정</th>\n",
       "      <td>90</td>\n",
       "      <td>80</td>\n",
       "      <td>90</td>\n",
       "    </tr>\n",
       "    <tr>\n",
       "      <th>장길산</th>\n",
       "      <td>75</td>\n",
       "      <td>70</td>\n",
       "      <td>85</td>\n",
       "    </tr>\n",
       "  </tbody>\n",
       "</table>\n",
       "</div>"
      ],
      "text/plain": [
       "     KOR  ENG  MATH\n",
       "홍길동   80   90    80\n",
       "임꺽정   90   80    90\n",
       "장길산   75   70    85"
      ]
     },
     "execution_count": 28,
     "metadata": {},
     "output_type": "execute_result"
    }
   ],
   "source": [
    "# 이미 생성된 데이터 프레임에 index 부여\n",
    "scores_df.index = ['홍길동', '임꺽정', '장길산']\n",
    "scores_df"
   ]
  },
  {
   "cell_type": "code",
   "execution_count": null,
   "id": "9a0e4acf",
   "metadata": {},
   "outputs": [],
   "source": [
    "# 변수의 파생 : 이미 있는 변수(컬럼)을 기반으로 새 변수(컬럼)를 생성\n",
    "# 모든 학생의 국어, 영어, 수학 점수 총점을 변수로 생성\n",
    "scores_df['']"
   ]
  }
 ],
 "metadata": {
  "kernelspec": {
   "display_name": "Python 3",
   "language": "python",
   "name": "python3"
  },
  "language_info": {
   "codemirror_mode": {
    "name": "ipython",
    "version": 3
   },
   "file_extension": ".py",
   "mimetype": "text/x-python",
   "name": "python",
   "nbconvert_exporter": "python",
   "pygments_lexer": "ipython3",
   "version": "3.9.5"
  }
 },
 "nbformat": 4,
 "nbformat_minor": 5
}
